{
  "nbformat": 4,
  "nbformat_minor": 0,
  "metadata": {
    "colab": {
      "provenance": [],
      "include_colab_link": true
    },
    "kernelspec": {
      "name": "python3",
      "display_name": "Python 3"
    }
  },
  "cells": [
    {
      "cell_type": "markdown",
      "metadata": {
        "id": "view-in-github",
        "colab_type": "text"
      },
      "source": [
        "<a href=\"https://colab.research.google.com/github/zunayedology/multimodal-sensor-fusion-ppke/blob/main/Fusion03_start_with_this_2025.ipynb\" target=\"_parent\"><img src=\"https://colab.research.google.com/assets/colab-badge.svg\" alt=\"Open In Colab\"/></a>"
      ]
    },
    {
      "cell_type": "code",
      "metadata": {
        "id": "_dDQAK4bJ9F9"
      },
      "source": [
        "\"\"\"\n",
        "story:\n",
        "let's assume we have a LIDAR\n",
        "https://www.nuscenes.org/data-annotation\n",
        "https://level5.lyft.com/dataset/#data-format\n",
        "\n",
        "WE have a lidar and a detector which should detect pedestrian/traffic signs/and free space\n",
        "the detector was built by someone else and we do not know anything about its quality, but we want to (and have to) use this in practice.\n",
        "\n",
        "We want to make the best out of it using repeated measurements.\n",
        "\n",
        "It is imporant that we asusme that these measurements are completely independent form each other...which is not ture, but we will deal with this in practice later.\n",
        "\n",
        "\"\"\"\n",
        "\n",
        "import numpy as np"
      ],
      "execution_count": 1,
      "outputs": []
    },
    {
      "cell_type": "code",
      "metadata": {
        "id": "aSHse8X_J_kc",
        "colab": {
          "base_uri": "https://localhost:8080/"
        },
        "outputId": "98f91870-0bf8-4a9f-9eb0-d54eb99f88d8"
      },
      "source": [
        "\"\"\"\n",
        "class Model():\n",
        "  #this is a  simple probabilistic model representing our sensor\n",
        "  def __init__ (self):\n",
        "    #constructor\n",
        "\n",
        "  def GenerateState(self):\n",
        "    #this function generates a random hidden state\n",
        "    #has no return value\n",
        "\n",
        "  def GetState(self):\n",
        "    #this is a function we can not use inn practice, it reveals the hidden state. We will use this to check our result.\n",
        "    #returns a number, the index of the hidden state (0,1,2)\n",
        "\n",
        "  def Measure(self):\n",
        "    #this funciton makes a measuerement with a previously set hidden state\n",
        "    #returns the index of the measured state (0,1,2)\n",
        "\n",
        "  def MeasureKnownState(self,X):\n",
        "    #this function makes a measurement with a known hidden state\n",
        "    #the hidden state is the imnput aprametre of the function (0,1,2)\n",
        "    #returns the index of the measured state (0,1,2)\n",
        "\"\"\"\n",
        "\n",
        "! wget https://users.itk.ppke.hu/~horan/LIDARModel.py\n",
        "import LIDARModel as Model1\n",
        "\n",
        "! wget https://users.itk.ppke.hu/~horan/LIDARModel2.py\n",
        "import LIDARModel2 as Model2"
      ],
      "execution_count": 2,
      "outputs": [
        {
          "output_type": "stream",
          "name": "stdout",
          "text": [
            "--2025-09-30 06:53:11--  https://users.itk.ppke.hu/~horan/LIDARModel.py\n",
            "Resolving users.itk.ppke.hu (users.itk.ppke.hu)... 193.225.109.33\n",
            "Connecting to users.itk.ppke.hu (users.itk.ppke.hu)|193.225.109.33|:443... connected.\n",
            "HTTP request sent, awaiting response... 200 OK\n",
            "Length: 1095 (1.1K) [text/x-python]\n",
            "Saving to: ‘LIDARModel.py’\n",
            "\n",
            "LIDARModel.py       100%[===================>]   1.07K  --.-KB/s    in 0s      \n",
            "\n",
            "2025-09-30 06:53:12 (425 MB/s) - ‘LIDARModel.py’ saved [1095/1095]\n",
            "\n",
            "--2025-09-30 06:53:12--  https://users.itk.ppke.hu/~horan/LIDARModel2.py\n",
            "Resolving users.itk.ppke.hu (users.itk.ppke.hu)... 193.225.109.33\n",
            "Connecting to users.itk.ppke.hu (users.itk.ppke.hu)|193.225.109.33|:443... connected.\n",
            "HTTP request sent, awaiting response... 200 OK\n",
            "Length: 1101 (1.1K) [text/x-python]\n",
            "Saving to: ‘LIDARModel2.py’\n",
            "\n",
            "LIDARModel2.py      100%[===================>]   1.08K  --.-KB/s    in 0s      \n",
            "\n",
            "2025-09-30 06:53:13 (451 MB/s) - ‘LIDARModel2.py’ saved [1101/1101]\n",
            "\n"
          ]
        }
      ]
    },
    {
      "cell_type": "code",
      "metadata": {
        "id": "CTiVXF9dKJvE",
        "colab": {
          "base_uri": "https://localhost:8080/"
        },
        "outputId": "8e28557e-40dd-467b-f901-aa121a14d604"
      },
      "source": [
        "# Calibration of sensor 1\n",
        "M1 = Model1.Model()\n",
        "# M1.State = 1\n",
        "\n",
        "repeat = 5000\n",
        "RelFreqMatrix = np.zeros((3,3))\n",
        "for state in range(3):\n",
        "    for i in range(repeat):\n",
        "        #RelativeFrequencyMatrix[ROW, COL]\n",
        "        #RelativeFrequencyMatrix[STATE, OBSERVATION]\n",
        "        RelFreqMatrix[state,M1.MeasureKnownState(state)] += 1\n",
        "\n",
        "print(\"Relative Frequency Matrix 1:\")\n",
        "print(RelFreqMatrix)\n",
        "print()\n",
        "\n",
        "#columnwise summation by axis 0\n",
        "ObsProb1 = np.sum(RelFreqMatrix,0)/np.sum(RelFreqMatrix)\n",
        "print(\"Observation Probability 1:\")\n",
        "print(ObsProb1)\n",
        "print()\n",
        "\n",
        "ObsMatrix1 = RelFreqMatrix/np.sum(RelFreqMatrix,1)\n",
        "print(\"Observation Matrix 1:\")\n",
        "print(ObsMatrix1)\n",
        "print()"
      ],
      "execution_count": 3,
      "outputs": [
        {
          "output_type": "stream",
          "name": "stdout",
          "text": [
            "Relative Frequency Matrix 1:\n",
            "[[2475. 1020. 1505.]\n",
            " [1435. 3029.  536.]\n",
            " [ 498.  496. 4006.]]\n",
            "\n",
            "Observation Probability 1:\n",
            "[0.29386667 0.303      0.40313333]\n",
            "\n",
            "Observation Matrix 1:\n",
            "[[0.495  0.204  0.301 ]\n",
            " [0.287  0.6058 0.1072]\n",
            " [0.0996 0.0992 0.8012]]\n",
            "\n"
          ]
        }
      ]
    },
    {
      "cell_type": "code",
      "metadata": {
        "id": "vAzute96KmY8",
        "colab": {
          "base_uri": "https://localhost:8080/"
        },
        "outputId": "cda029cf-f467-4bf6-800d-afaa7e2d83b4"
      },
      "source": [
        "# Calibration of sensor 2\n",
        "M2 = Model2.Model()\n",
        "# M2.State = 1\n",
        "\n",
        "repeat = 5000\n",
        "RelFreqMatrix = np.zeros((3,3))\n",
        "for state in range(3):\n",
        "    for i in range(repeat):\n",
        "        #RelativeFrequencyMatrix[ROW, COL]\n",
        "        #RelativeFrequencyMatrix[STATE, OBSERVATION]\n",
        "        RelFreqMatrix[state,M2.MeasureKnownState(state)] += 1\n",
        "\n",
        "print(\"Relative Frequency Matrix 2:\")\n",
        "print(RelFreqMatrix)\n",
        "print()\n",
        "\n",
        "ObsProb2 = np.sum(RelFreqMatrix,0)/np.sum(RelFreqMatrix)\n",
        "print(\"Observation Probability 2:\")\n",
        "print(ObsProb2, end=\"\\n\\n\")\n",
        "\n",
        "ObsMatrix2 = RelFreqMatrix/np.sum(RelFreqMatrix,1)\n",
        "print(\"Observation Matrix 2:\")\n",
        "print(ObsMatrix2, end=\"\\n\\n\")"
      ],
      "execution_count": 4,
      "outputs": [
        {
          "output_type": "stream",
          "name": "stdout",
          "text": [
            "Relative Frequency Matrix 2:\n",
            "[[   0. 4494.  506.]\n",
            " [1530. 3008.  462.]\n",
            " [ 507.  482. 4011.]]\n",
            "\n",
            "Observation Probability 2:\n",
            "[0.1358     0.53226667 0.33193333]\n",
            "\n",
            "Observation Matrix 2:\n",
            "[[0.     0.8988 0.1012]\n",
            " [0.306  0.6016 0.0924]\n",
            " [0.1014 0.0964 0.8022]]\n",
            "\n"
          ]
        }
      ]
    },
    {
      "cell_type": "code",
      "metadata": {
        "id": "xBxepE6ROmL2",
        "outputId": "28cc010f-344c-4689-c92a-9225c3937b61",
        "colab": {
          "base_uri": "https://localhost:8080/"
        }
      },
      "source": [
        "# Entropy calculation\n",
        "\n",
        "def Entropy(p):\n",
        "  p = p.flatten()\n",
        "  H = 0\n",
        "  for prob in p:\n",
        "    if prob != 0:\n",
        "      H += -prob * np.log2(prob) # base2 log\n",
        "\n",
        "  return H\n",
        "\n",
        "matr = np.array([[0.35, 0.15],\n",
        "                 [0.1, 0.4]])\n",
        "print(Entropy(matr))"
      ],
      "execution_count": 5,
      "outputs": [
        {
          "output_type": "stream",
          "name": "stdout",
          "text": [
            "1.8016094970590273\n"
          ]
        }
      ]
    },
    {
      "cell_type": "code",
      "source": [],
      "metadata": {
        "id": "HBI3Vsf_biQJ"
      },
      "execution_count": null,
      "outputs": []
    }
  ]
}