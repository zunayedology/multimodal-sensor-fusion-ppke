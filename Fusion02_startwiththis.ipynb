{
  "nbformat": 4,
  "nbformat_minor": 0,
  "metadata": {
    "colab": {
      "provenance": [],
      "include_colab_link": true
    },
    "kernelspec": {
      "name": "python3",
      "display_name": "Python 3"
    }
  },
  "cells": [
    {
      "cell_type": "markdown",
      "metadata": {
        "id": "view-in-github",
        "colab_type": "text"
      },
      "source": [
        "<a href=\"https://colab.research.google.com/github/zunayedology/multimodal-sensor-fusion-ppke/blob/main/Fusion02_startwiththis.ipynb\" target=\"_parent\"><img src=\"https://colab.research.google.com/assets/colab-badge.svg\" alt=\"Open In Colab\"/></a>"
      ]
    },
    {
      "cell_type": "code",
      "metadata": {
        "id": "NYCWi_HiXxVU"
      },
      "source": [
        "\"\"\"\n",
        "story:\n",
        "let's assume we have a LIDAR\n",
        "https://www.nuscenes.org/data-annotation\n",
        "https://level5.lyft.com/dataset/#data-format\n",
        "\n",
        "WE have a lidar and a detector which should detect pedestrian/traffic signs/and free space\n",
        "the detector was built by someone else and we do not know anything about its quality, but we want to (and have to) use this in practice.\n",
        "\n",
        "We want to make the best out of it using repeated measurements.\n",
        "\n",
        "It is imporant that we asusme that these measurements are completely independent form each other...which is not ture, but we will deal with this in practice later.\n",
        "\n",
        "\"\"\"\n",
        "\n",
        "import numpy as np\n",
        "import gdown"
      ],
      "execution_count": 1,
      "outputs": []
    },
    {
      "cell_type": "markdown",
      "metadata": {
        "id": "Ojhx5bXBNHvb"
      },
      "source": [
        "## LIDAR Model"
      ]
    },
    {
      "cell_type": "code",
      "metadata": {
        "id": "03wE9nLtt9rD",
        "colab": {
          "base_uri": "https://localhost:8080/"
        },
        "outputId": "f45e0f19-a630-40e5-f360-472bda53dafd"
      },
      "source": [
        "\"\"\"\n",
        "class Model():\n",
        "  #this is a  simple probabilistic model representing our sensor\n",
        "  def __init__ (self):\n",
        "    #constructor\n",
        "\n",
        "  def GenerateState(self):\n",
        "    #this function generates a random hidden state\n",
        "    #has no return value\n",
        "\n",
        "  def GetState(self):\n",
        "    #this is a function we can not use inn practice, it reveals the hidden state. We will use this to check our result.\n",
        "    #returns a number, the index of the hidden state (0,1,2)\n",
        "\n",
        "  def Measure(self):\n",
        "    #this funciton makes a measuerement with a previously set hidden state\n",
        "    #returns the index of the measured state (0,1,2)\n",
        "\n",
        "  def MeasureKnownState(self,X):\n",
        "    #this function makes a measurement with a known hidden state\n",
        "    #the hidden state is the imnput aprametre of the function (0,1,2)\n",
        "    #returns the index of the measured state (0,1,2)\n",
        "\"\"\"\n",
        "\n",
        "url = 'https://drive.google.com/uc?id=1mi9WvjTDscb3VZe1Hdg-Iv02DwXYJNR0'\n",
        "output = 'LIDARModel.py'\n",
        "gdown.download(url, output, quiet=False)\n",
        "import LIDARModel as Model"
      ],
      "execution_count": 2,
      "outputs": [
        {
          "output_type": "stream",
          "name": "stderr",
          "text": [
            "Downloading...\n",
            "From (original): https://drive.google.com/uc?id=1mi9WvjTDscb3VZe1Hdg-Iv02DwXYJNR0\n",
            "From (redirected): https://drive.google.com/uc?id=1mi9WvjTDscb3VZe1Hdg-Iv02DwXYJNR0&confirm=t&uuid=e5edeeeb-c1f2-41c7-9278-54519fe87259\n",
            "To: /content/LIDARModel.py\n",
            "100%|██████████| 1.09k/1.09k [00:00<00:00, 4.01MB/s]\n"
          ]
        }
      ]
    },
    {
      "cell_type": "code",
      "metadata": {
        "id": "cChchMmnaDBU",
        "colab": {
          "base_uri": "https://localhost:8080/"
        },
        "outputId": "b61ef036-5558-4595-95b4-25da145633d8"
      },
      "source": [
        "M = Model.Model() #initalize this model\n",
        "M.GenerateState() #generate a random hidden state\n",
        "\n",
        "M.GetState()      #we can check the hidden state...!this is not a measurement"
      ],
      "execution_count": 3,
      "outputs": [
        {
          "output_type": "execute_result",
          "data": {
            "text/plain": [
              "1"
            ]
          },
          "metadata": {},
          "execution_count": 3
        }
      ]
    },
    {
      "cell_type": "code",
      "metadata": {
        "id": "763V7mbbe3-8",
        "colab": {
          "base_uri": "https://localhost:8080/"
        },
        "outputId": "f242327e-9f17-4a61-f38e-91ea8cba4298"
      },
      "source": [
        "#let's make 10 measurements with the known hidden states\n",
        "for i in range(10):\n",
        "  print(M.Measure())"
      ],
      "execution_count": 4,
      "outputs": [
        {
          "output_type": "stream",
          "name": "stdout",
          "text": [
            "1\n",
            "1\n",
            "0\n",
            "1\n",
            "1\n",
            "0\n",
            "1\n",
            "2\n",
            "1\n",
            "1\n"
          ]
        }
      ]
    },
    {
      "cell_type": "code",
      "metadata": {
        "id": "EUqRnblWJehH",
        "colab": {
          "base_uri": "https://localhost:8080/"
        },
        "outputId": "98a5a48d-c828-4b52-f43c-58569c0d7592"
      },
      "source": [
        "# Get the avg prediction value for a given hidden state\n",
        "# calculate the avg freq\n",
        "\n",
        "repeat = 1000\n",
        "state_count = np.zeros(3)\n",
        "\n",
        "for i in range(repeat):\n",
        "    measurement = M.Measure()\n",
        "    state_count[measurement] += 1\n",
        "\n",
        "print(state_count)\n",
        "\n",
        "state_count /= repeat\n",
        "print(state_count)\n"
      ],
      "execution_count": 6,
      "outputs": [
        {
          "output_type": "stream",
          "name": "stdout",
          "text": [
            "[308. 585. 107.]\n",
            "[0.308 0.585 0.107]\n"
          ]
        }
      ]
    },
    {
      "cell_type": "code",
      "source": [
        "# get relative freq matrix\n",
        "\n",
        "repeat = 1000\n",
        "\n",
        "RelativeFreqMatrix = np.zeros((3,3))\n",
        "\n",
        "for hidden_state in range(3):\n",
        "    for i in range(repeat):\n",
        "        actual_obs = M.MeasureKnownState(hidden_state)\n",
        "        # RelativeFreqMatrix[Row, Col]\n",
        "        # RelativeFreqMatrix[State, observation]\n",
        "        RelativeFreqMatrix[hidden_state, actual_obs] += 1\n",
        "\n",
        "print(RelativeFreqMatrix)\n"
      ],
      "metadata": {
        "colab": {
          "base_uri": "https://localhost:8080/"
        },
        "id": "ah9NRSe2Uz1l",
        "outputId": "e56deeb8-837a-46ae-9f23-b2c61c2c4196"
      },
      "execution_count": 7,
      "outputs": [
        {
          "output_type": "stream",
          "name": "stdout",
          "text": [
            "[[509. 175. 316.]\n",
            " [301. 594. 105.]\n",
            " [ 98. 106. 796.]]\n"
          ]
        }
      ]
    },
    {
      "cell_type": "code",
      "source": [
        "# Observation probability, observation matrix\n",
        "\n",
        "ObservationProbability = np.sum(RelativeFreqMatrix, 0) / np.sum(RelativeFreqMatrix)\n",
        "print(\"Observation Probability\", ObservationProbability)\n",
        "\n",
        "# What is the probablity of being in a state if I got an observation?\n",
        "\n",
        "ObservationMatrix = RelativeFreqMatrix / np.sum(RelativeFreqMatrix, 0)\n",
        "print(\"Observation Matrix\\n\", ObservationMatrix)"
      ],
      "metadata": {
        "colab": {
          "base_uri": "https://localhost:8080/"
        },
        "id": "TkQ4WVioWPEG",
        "outputId": "451e0edd-28bd-45e4-f8c3-e2ed1a67aa45"
      },
      "execution_count": 15,
      "outputs": [
        {
          "output_type": "stream",
          "name": "stdout",
          "text": [
            "Observation Probability [0.30266667 0.29166667 0.40566667]\n",
            "Observation Matrix\n",
            " [[0.56057269 0.2        0.25965489]\n",
            " [0.3314978  0.67885714 0.08627773]\n",
            " [0.10792952 0.12114286 0.65406738]]\n"
          ]
        }
      ]
    },
    {
      "cell_type": "code",
      "source": [
        "# make Bayesian estimation\n",
        "\n",
        "# P(A|B) = (P(B|A) * P(A)) / P(B)\n",
        "# P(hidden|measurement) = (P(measurement|hidden) * P(hidden)) / P(measured)\n",
        "# P(B_measurement|A_hidden): ObseravtionMatrix\n",
        "# P(A_hidden): Prior assumption: What do we know about hidden state\n",
        "# P(B_measurement): ObservationProbability\n",
        "\n",
        "M.GenerateState()\n",
        "print(\"The hidden state: \", M.GetState())\n",
        "\n",
        "HiddenStateDistribution = np.array([1/3, 1/3, 1/3])\n",
        "\n",
        "prior_assumption = HiddenStateDistribution\n",
        "\n",
        "repeat = 10\n",
        "HiddenStateDistribution = np.array([1/3, 1/3, 1/3])\n",
        "\n",
        "for i in range(repeat):\n",
        "    measurement = M.Measure()\n",
        "    # print(measurement)\n",
        "    # print(ObservationMatrix[:, measurement])\n",
        "    prediction = ObservationMatrix[:, measurement] * prior_assumption / ObservationProbability\n",
        "    prediction = prediction / np.sum(prediction)\n",
        "    prior_assumption = prediction\n",
        "    print(prediction)\n"
      ],
      "metadata": {
        "colab": {
          "base_uri": "https://localhost:8080/"
        },
        "id": "AjApFsflXBJE",
        "outputId": "9d1d26d0-1044-4dc9-a0b1-0b1793aa9d05"
      },
      "execution_count": 18,
      "outputs": [
        {
          "output_type": "stream",
          "name": "stdout",
          "text": [
            "The hidden state:  1\n",
            "[0.20103653 0.70811072 0.09085275]\n",
            "[0.07347095 0.91152385 0.0150052 ]\n",
            "[0.11570402 0.88090146 0.00339452]\n",
            "[3.59325205e-02 9.63591070e-01 4.76409603e-04]\n",
            "[1.04753321e-02 9.89461902e-01 6.27658930e-05]\n",
            "[2.97789428e-02 9.69885716e-01 3.35340836e-04]\n",
            "[8.64120126e-03 9.91314823e-01 4.39758633e-05]\n",
            "[2.46865504e-03 9.97525667e-01 5.67758635e-06]\n",
            "[7.02109404e-04 9.99297161e-01 7.29745150e-07]\n",
            "[2.03350085e-03 9.97962527e-01 3.97220855e-06]\n"
          ]
        }
      ]
    },
    {
      "cell_type": "code",
      "source": [],
      "metadata": {
        "id": "9Ekpv6wSazqP"
      },
      "execution_count": null,
      "outputs": []
    }
  ]
}