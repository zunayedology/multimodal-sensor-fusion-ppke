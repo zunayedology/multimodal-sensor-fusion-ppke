{
  "nbformat": 4,
  "nbformat_minor": 0,
  "metadata": {
    "colab": {
      "provenance": [],
      "include_colab_link": true
    },
    "kernelspec": {
      "name": "python3",
      "display_name": "Python 3"
    }
  },
  "cells": [
    {
      "cell_type": "markdown",
      "metadata": {
        "id": "view-in-github",
        "colab_type": "text"
      },
      "source": [
        "<a href=\"https://colab.research.google.com/github/zunayedology/multimodal-sensor-fusion-ppke/blob/main/Fusion02_startwiththis.ipynb\" target=\"_parent\"><img src=\"https://colab.research.google.com/assets/colab-badge.svg\" alt=\"Open In Colab\"/></a>"
      ]
    },
    {
      "cell_type": "code",
      "metadata": {
        "id": "NYCWi_HiXxVU"
      },
      "source": [
        "\"\"\"\n",
        "story:\n",
        "let's assume we have a LIDAR\n",
        "https://www.nuscenes.org/data-annotation\n",
        "https://level5.lyft.com/dataset/#data-format\n",
        "\n",
        "WE have a lidar and a detector which should detect pedestrian/traffic signs/and free space\n",
        "the detector was built by someone else and we do not know anything about its quality, but we want to (and have to) use this in practice.\n",
        "\n",
        "We want to make the best out of it using repeated measurements.\n",
        "\n",
        "It is imporant that we asusme that these measurements are completely independent form each other...which is not ture, but we will deal with this in practice later.\n",
        "\n",
        "\"\"\"\n",
        "\n",
        "import numpy as np\n",
        "import gdown"
      ],
      "execution_count": null,
      "outputs": []
    },
    {
      "cell_type": "markdown",
      "metadata": {
        "id": "Ojhx5bXBNHvb"
      },
      "source": [
        "## LIDAR Model"
      ]
    },
    {
      "cell_type": "code",
      "metadata": {
        "id": "03wE9nLtt9rD",
        "colab": {
          "base_uri": "https://localhost:8080/"
        },
        "outputId": "35a21c59-b0d1-4bbb-c94c-fd14fb30ccfc"
      },
      "source": [
        "\"\"\"\n",
        "class Model():\n",
        "  #this is a  simple probabilistic model representing our sensor\n",
        "  def __init__ (self):\n",
        "    #constructor\n",
        "\n",
        "  def GenerateState(self):\n",
        "    #this function generates a random hidden state\n",
        "    #has no return value\n",
        "\n",
        "  def GetState(self):\n",
        "    #this is a function we can not use inn practice, it reveals the hidden state. We will use this to check our result.\n",
        "    #returns a number, the index of the hidden state (0,1,2)\n",
        "\n",
        "  def Measure(self):\n",
        "    #this funciton makes a measuerement with a previously set hidden state\n",
        "    #returns the index of the measured state (0,1,2)\n",
        "\n",
        "  def MeasureKnownState(self,X):\n",
        "    #this function makes a measurement with a known hidden state\n",
        "    #the hidden state is the imnput aprametre of the function (0,1,2)\n",
        "    #returns the index of the measured state (0,1,2)\n",
        "\"\"\"\n",
        "\n",
        "url = 'https://drive.google.com/uc?id=1mi9WvjTDscb3VZe1Hdg-Iv02DwXYJNR0'\n",
        "output = 'LIDARModel.py'\n",
        "gdown.download(url, output, quiet=False)\n",
        "import LIDARModel as Model"
      ],
      "execution_count": null,
      "outputs": [
        {
          "output_type": "stream",
          "name": "stderr",
          "text": [
            "Downloading...\n",
            "From: https://drive.google.com/uc?id=1mi9WvjTDscb3VZe1Hdg-Iv02DwXYJNR0\n",
            "To: /content/LIDARModel.py\n",
            "100%|██████████| 1.09k/1.09k [00:00<00:00, 3.19MB/s]\n"
          ]
        }
      ]
    },
    {
      "cell_type": "code",
      "metadata": {
        "id": "cChchMmnaDBU",
        "colab": {
          "base_uri": "https://localhost:8080/"
        },
        "outputId": "b8ca9089-f2d3-47ce-ec52-2f3e590419c3"
      },
      "source": [
        "M = Model.Model() #initalize this model\n",
        "M.GenerateState() #generate a random hidden state\n",
        "\n",
        "M.GetState()      #we can check the hidden state...!this is not a measurement"
      ],
      "execution_count": null,
      "outputs": [
        {
          "output_type": "execute_result",
          "data": {
            "text/plain": [
              "0"
            ]
          },
          "metadata": {},
          "execution_count": 3
        }
      ]
    },
    {
      "cell_type": "code",
      "metadata": {
        "id": "763V7mbbe3-8",
        "colab": {
          "base_uri": "https://localhost:8080/"
        },
        "outputId": "0655231d-694f-4ee0-bc7d-25f52469e943"
      },
      "source": [
        "#let's make 10 measurements with the known hidden states\n",
        "for i in range(10):\n",
        "  print(M.Measure())"
      ],
      "execution_count": null,
      "outputs": [
        {
          "output_type": "stream",
          "name": "stdout",
          "text": [
            "0\n",
            "1\n",
            "0\n",
            "0\n",
            "0\n",
            "2\n",
            "1\n",
            "2\n",
            "1\n",
            "0\n"
          ]
        }
      ]
    },
    {
      "cell_type": "code",
      "metadata": {
        "id": "EUqRnblWJehH"
      },
      "source": [],
      "execution_count": null,
      "outputs": []
    }
  ]
}